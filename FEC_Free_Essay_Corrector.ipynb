{
  "nbformat": 4,
  "nbformat_minor": 0,
  "metadata": {
    "colab": {
      "provenance": [],
      "authorship_tag": "ABX9TyOd0xZFxRG9eZCYLQ88cjG6",
      "include_colab_link": true
    },
    "kernelspec": {
      "name": "python3",
      "display_name": "Python 3"
    },
    "language_info": {
      "name": "python"
    }
  },
  "cells": [
    {
      "cell_type": "markdown",
      "metadata": {
        "id": "view-in-github",
        "colab_type": "text"
      },
      "source": [
        "<a href=\"https://colab.research.google.com/github/Cavafa27/FEC-Free_Essay_Corrector/blob/main/FEC_Free_Essay_Corrector.ipynb\" target=\"_parent\"><img src=\"https://colab.research.google.com/assets/colab-badge.svg\" alt=\"Open In Colab\"/></a>"
      ]
    },
    {
      "cell_type": "markdown",
      "source": [
        "**Instalação de Pacotes**"
      ],
      "metadata": {
        "id": "OcNj_nXnYKp5"
      }
    },
    {
      "cell_type": "code",
      "execution_count": 1,
      "metadata": {
        "id": "u6XpJ-Ugq0ig"
      },
      "outputs": [],
      "source": [
        "!pip install -U -q google-generativeai"
      ]
    },
    {
      "cell_type": "markdown",
      "source": [
        "**Configuração de API e Importação de Ferramentas**"
      ],
      "metadata": {
        "id": "GJA_LlwVYTWP"
      }
    },
    {
      "cell_type": "code",
      "source": [
        "import google.generativeai as genai\n",
        "\n",
        "from google.colab import userdata\n",
        "\n",
        "GOOGLE_API_KEY= userdata.get('API_FEC')\n",
        "genai.configure(api_key=GOOGLE_API_KEY)"
      ],
      "metadata": {
        "id": "3Huow5AcYZBq"
      },
      "execution_count": 2,
      "outputs": []
    },
    {
      "cell_type": "markdown",
      "source": [
        "**Configurando os parâmentros do modelo**"
      ],
      "metadata": {
        "id": "t9QUEDRbhy46"
      }
    },
    {
      "cell_type": "code",
      "source": [
        "generation_config = {\n",
        "  \"temperature\": 1,\n",
        "  \"top_p\": 0.95,\n",
        "  \"top_k\": 0,\n",
        "  \"max_output_tokens\": 8192,\n",
        "}\n",
        "\n",
        "system_instruction = \"Você é um rigoroso professor de língua portuguesa especializado em produção de texto\"\n",
        "\n",
        "safety_settings = [\n",
        "  {\n",
        "    \"category\": \"HARM_CATEGORY_HARASSMENT\",\n",
        "    \"threshold\": \"BLOCK_ONLY_HIGH\"\n",
        "  },\n",
        "  {\n",
        "    \"category\": \"HARM_CATEGORY_HATE_SPEECH\",\n",
        "    \"threshold\": \"BLOCK_ONLY_HIGH\"\n",
        "  },\n",
        "  {\n",
        "    \"category\": \"HARM_CATEGORY_SEXUALLY_EXPLICIT\",\n",
        "    \"threshold\": \"BLOCK_ONLY_HIGH\"\n",
        "  },\n",
        "  {\n",
        "    \"category\": \"HARM_CATEGORY_DANGEROUS_CONTENT\",\n",
        "    \"threshold\": \"BLOCK_ONLY_HIGH\"\n",
        "  },\n",
        "]\n",
        "\n",
        "model = genai.GenerativeModel(model_name=\"gemini-1.5-pro-latest\",\n",
        "                              generation_config=generation_config,\n",
        "                              system_instruction=system_instruction,\n",
        "                              safety_settings=safety_settings)"
      ],
      "metadata": {
        "id": "Yr2AX9qah1oy"
      },
      "execution_count": 3,
      "outputs": []
    },
    {
      "cell_type": "markdown",
      "source": [
        "**Entrada de informações de referência**"
      ],
      "metadata": {
        "id": "_Gup8IfOAlOJ"
      }
    },
    {
      "cell_type": "code",
      "source": [
        "chat = model.start_chat(history=[\n",
        "  {\n",
        "    \"role\": \"user\",\n",
        "    \"parts\": [\"Armazene\\nas informações abaixo no contexto para referência futura\\n\\n\\n\\nCritério\\n01 - Domínio da escrita formal da língua portuguesa\\n\\nInstrução\\nsobre o critério: É avaliado se a redação do participante está adequada às\\nregras de ortografia, como acentuação, ortografia, uso de hífen, emprego de\\nletras maiúsculas e minúsculas e separação silábica. Ainda são analisadas a\\nregência verbal e nominal, concordância verbal e nominal, pontuação,\\nparalelismo, emprego de pronomes e crase.\\n\\nPontuação – Descrição\\n\\n200 pontos – Demonstra excelente domínio da modalidade escrita formal da\\nlíngua portuguesa e de escolha de registro. Desvios gramaticais ou de\\nconvenções da escrita serão aceitos somente como excepcionalidade e quando não\\ncaracterizarem reincidência.\\n\\n160 pontos – Demonstra bom domínio da modalidade escrita formal da língua\\nportuguesa e de escolha de registro, com poucos desvios gramaticais e de\\nconvenções da escrita.\\n\\n120 pontos – Demonstra domínio mediano da modalidade escrita formal da\\nlíngua portuguesa e de escolha de registro, com alguns desvios gramaticais e de\\nconvenções da escrita.\\n\\n80 pontos – Demonstra domínio insuficiente da modalidade escrita formal\\nda língua portuguesa, com muitos desvios gramaticais, de escolha de registro e\\nde convenções da escrita.\\n\\n40 pontos – Demonstra domínio precário da modalidade escrita formal da\\nlíngua portuguesa, de forma sistemática, com diversificados e frequentes\\ndesvios gramaticais, de escolha de registro e de convenções da escrita.\\n\\n0 ponto – Demonstra desconhecimento da modalidade escrita formal da\\nlíngua portuguesa.\\n\\n\\n\\nCritério\\n02 - Compreender o tema e não fugir do que é proposto\\n\\nInstrução\\nsobre o critério: Avalia as habilidades integradas de leitura e de escrita do\\ncandidato. O tema constitui o núcleo das ideias sobre as quais a redação deve\\nser organizada e é caracterizado por ser uma delimitação de um assunto mais\\nabrangente.\\n\\nPontuação\\n– Descrição\\n\\n200 pontos\\n– Desenvolve o tema por meio de argumentação consistente, a partir de um\\nrepertório sociocultural produtivo e apresenta excelente domínio do texto\\ndissertativo-argumentativo.\\n\\n160 pontos\\n– Desenvolve o tema por meio de argumentação consistente e apresenta bom\\ndomínio do texto dissertativo-argumentativo, com proposição, argumentação e\\nconclusão.\\n\\n120 pontos\\n- Desenvolve o tema por meio de argumentação previsível e apresenta domínio\\nmediano do texto dissertativo-argumentativo, com proposição, argumentação e\\nconclusão.\\n\\n80 pontos\\n– Desenvolve o tema recorrendo à cópia de trechos dos textos motivadores ou\\napresenta domínio insuficiente do texto dissertativo-argumentativo, não\\natendendo à estrutura com proposição, argumentação e conclusão.\\n\\n40 pontos\\n– Apresenta o assunto, tangenciando o tema, ou demonstra domínio precário do\\ntexto dissertativo-argumentativo, com traços constantes de outros tipos\\ntextuais.\\n\\n0 ponto\\n– Fuga ao tema/não atendimento à estrutura dissertativo-argumentativa. Nestes\\ncasos a redação recebe nota zero e é anulada.\\n\\n\\n\\nCritério\\n03 - Selecionar, relacionar, organizar e interpretar informações, fatos,\\nopiniões e argumentos em defesa de um ponto de vista\\n\\nInstrução\\nsobre o critério: O candidato precisa elaborar um texto que apresente,\\nclaramente, uma ideia a ser defendida e os argumentos que justifiquem a posição\\nassumida em relação à temática da proposta da redação. Trata da coerência e da\\nplausibilidade entre as ideias apresentadas no texto, o que é garantido pelo\\nplanejamento prévio à escrita, ou seja, pela elaboração de um projeto de texto.\\n\\nPontuação       Descrição\\n\\n200 pontos\\n– Apresenta informações, fatos e opiniões relacionados ao tema proposto, de\\nforma consistente e organizada, configurando autoria, em defesa de um ponto de\\nvista.\\n\\n160 pontos\\n– Apresenta informações, fatos e opiniões relacionados ao tema, de forma\\norganizada, com indícios de autoria, em defesa de um ponto de vista.\\n\\n120 pontos\\n– Apresenta informações, fatos e opiniões relacionados ao tema, limitados aos\\nargumentos dos textos motivadores e pouco organizados, em defesa de um ponto de\\nvista.\\n\\n80 pontos\\n– Apresenta informações, fatos e opiniões relacionados ao tema, mas\\ndesorganizados ou contraditórios e limitados aos argumentos dos textos\\nmotivadores, em defesa de um ponto de vista.\\n\\n40 pontos\\n– Apresenta informações, fatos e opiniões pouco relacionados ao tema ou\\nincoerentes e sem defesa de um ponto de vista.\\n\\n0 ponto  - Apresenta informações, fatos e opiniões não\\nrelacionados ao tema e sem defesa de um ponto de vista.\\n\\n\\n\\n\\n\\nCritério\\n04 – Conhecimento dos mecanismos linguísticos necessários para a construção da\\nargumentação\\n\\nInstrução\\nsobre o critério: São avaliados itens relacionados à estruturação lógica e\\nformal entre as partes da redação. A organização textual exige que as frases e\\nos parágrafos estabeleçam entre si uma relação que garanta uma sequência\\ncoerente do texto e a interdependência entre as ideias.\\n\\n\\n\\nPreposições,\\nconjunções, advérbios e locuções adverbiais são responsáveis pela coesão do\\ntexto porque estabelecem uma inter-relação entre orações, frases e parágrafos.\\nCada parágrafo será composto por um ou mais períodos também articulados. Cada\\nideia nova precisa estabelecer relação com as anteriores.\\n\\nPontuação\\n- Descrição\\n\\n200 pontos\\n– Articula bem as partes do texto e apresenta repertório diversificado de\\nrecursos coesivos.\\n\\n160 pontos\\n– Articula as partes do texto, com poucas inadequações, e apresenta repertório\\ndiversificado de recursos coesivos.\\n\\n120 pontos\\n– Articula as partes do texto, de forma mediana, com inadequações, e apresenta\\nrepertório pouco diversificado de recursos coesivos.\\n\\n80 pontos\\n– Articula as partes do texto, de forma insuficiente, com muitas inadequações e\\napresenta repertório limitado de recursos coesivos.\\n\\n40 pontos\\n– Articula as partes do texto de forma precária.\\n\\n0 ponto\\n– Não articula as informações.\\n\\n\\n\\nCritério\\n05 - Respeito aos direitos humanos\\n\\nInstrução\\nsobre o critério: Apresentar uma proposta de intervenção para o problema\\nabordado que respeite os direitos humanos. Propor uma intervenção para o\\nproblema apresentado pelo tema significa sugerir uma iniciativa que busque,\\nmesmo que minimamente, enfrentá-lo. A elaboração de uma proposta de intervenção\\nna prova de redação do Enem representa uma ocasião para que o candidato\\ndemonstre o preparo para o exercício da cidadania, para atuar na realidade em\\nconsonância com os direitos humanos.\\n\\nPontuação - Descrição\\n\\n200 pontos – Elabora muito bem proposta de\\nintervenção, detalhada, relacionada ao tema e articulada à discussão\\ndesenvolvida no texto.\\n\\n160 pontos – Elabora bem proposta de\\nintervenção relacionada ao tema e articulada à discussão desenvolvida no texto.\\n\\n120 pontos – Elabora, de forma mediana,\\nproposta de intervenção relacionada ao tema e articulada à discussão\\ndesenvolvida no texto.\\n\\n80 pontos – Elabora, de forma insuficiente,\\nproposta de intervenção relacionada ao tema, ou não articulada com a discussão\\ndesenvolvida no texto.\\n\\n40 pontos – Apresenta proposta de intervenção\\nvaga, precária ou relacionada apenas ao assunto.\\n\\n0 ponto – Não apresenta proposta de intervenção ou apresenta\\nproposta não relacionada ao tema ou ao assunto.\"]\n",
        "  },\n",
        "  {\n",
        "    \"role\": \"user\",\n",
        "    \"parts\": [\"Siga os seguintes passos:\\n\\n\\n\\n2 - Faça uma análise criteriosa e cuidadosa do texto que será inserido a\\nseguir de acordo com os critérios armazenados no contexto\\n\\n3 - Determine uma nota de 0 a 200 para cada critério de avaliação, de\\nacordo com as informações armazenadas no contexto\\n\\n4 - Dê um feedback separado pelos critérios. O feedback tem que conter as\\nseguintes informações\\n\\nNota atribuída para cada critério\\n\\nPartes boas do texto de acordo com os critérios\\n\\nRelatório detalhado das partes que diminuíram a pontuação de acordo com\\ncada critério\\n\\n5 - Caso o tema da redação não seja avaliável pelo critério 5, substituir\\no feedback deste critério pela mensagem: O tema desta redação não é avaliável\\npelo critério Respeito aos direitos humanos\\n\\n6 - Ao final do relatório deve vir a nota geral do texto (soma da\\npontuação de cada critério) e as considerações gerais.\\n\\n7 – Pule duas linhas entre cada critério no relatório\\n\\n8 - O relatório deve vir completo\"]\n",
        "  },\n",
        "])"
      ],
      "metadata": {
        "id": "bG_99clgAklV"
      },
      "execution_count": 4,
      "outputs": []
    },
    {
      "cell_type": "markdown",
      "source": [
        "**Input do texto e Análise dos Dados**"
      ],
      "metadata": {
        "id": "oIZe5462BC16"
      }
    },
    {
      "cell_type": "code",
      "source": [
        "prompt = input()\n",
        "response = chat.send_message(prompt)"
      ],
      "metadata": {
        "colab": {
          "base_uri": "https://localhost:8080/",
          "height": 55
        },
        "id": "cvnSQHQtpKdI",
        "outputId": "e8a7cefb-bdde-4ec3-a56b-ea2280d88f0f"
      },
      "execution_count": 5,
      "outputs": [
        {
          "name": "stdout",
          "output_type": "stream",
          "text": [
            "A presente resenha baseia-se na análise histórica do filme Titanic. O Filme foi lançado em 19 de dezembro de 1997 nos Estados Unidos.  Eua, sendo escrito, dirigido, co-produzido e co-editado por James Cameron. Entre os principais nomes pode-se destacar: Leonardo DiCaprio  interpretando Jack Dawson, Kate Winslet interpretando Rose DeWitt Bukater, Bernard Hill interpretando o capitão Edward J. Smith, e Victor  Garber interpretando o engenheiro Thomas Andrews. O filme que rendeu a repercussão da obra James Cameron lançado em 1997 e que rendeu 11 Oscars, batendo recordes de premiações e bilheterias. O lançamento do filme Titanic foi um sucesso mundial. O navio de luxo, construído na Irlanda do Norte no início do século XX, foi considerado  uma \"obra prima da engenharia\". No dia 10 de abril de 1912 zarpou de Southampton, na Inglaterra, rumo à Nova York, nos Estados Unidos.  A história do Titanic retratada através de filmes e documentários, continua presente na memória de muitas pessoas por se tratar uma história real e trágica. A obra do diretor James Cameron busca narrar a tragédia do RMS Titanic, considerado o “navio dos sonhos” e inafundável, assim como, a discriminação  entre as classes sociais, a disputa de poder e a história de amor de um jovem casal chamado Rose e Jack, de mundos completamente diferentes, os quais  se conheceram e se apaixonaram durante a viagem inaugural do Titanic, com o seu panorama majestoso repleto em dioramas, que levou mais que uma vida.  Todo projeto é falível, e necessita de um plano construtivo no que diz a segurança. Projetos jamais podem ser pensados e realizados para desafiar a  vida humana e as leis da natureza, como foi o caso do Titanic.\n"
          ]
        }
      ]
    },
    {
      "cell_type": "markdown",
      "source": [
        "**Configuração do Relatório e Geração**"
      ],
      "metadata": {
        "id": "98mx8CsQv5eq"
      }
    },
    {
      "cell_type": "code",
      "source": [
        "import textwrap\n",
        "from IPython.display import display\n",
        "from IPython.display import Markdown\n",
        "\n",
        "def to_markdown(text):\n",
        "  text = text.replace('\"', '`')\n",
        "  return Markdown(textwrap.indent(text, '> ', predicate=lambda _: True))\n",
        "\n",
        "last_message = next((message for message in reversed(chat.history) if message.role == 'model'), None)\n",
        "if last_message:\n",
        "  display(to_markdown(f'ATENÇÃO! Esta aplicação não substitui a necessidade de avaliações feitas por professores.\\n* {last_message.parts[0].text} \\n\\nBons estudos e continue praticando! :) \\n* Os resultados são gerados por IA e podem sofrer pequenas alterações se gerados mais de uma vez'))\n",
        "\n",
        "  print('')"
      ],
      "metadata": {
        "colab": {
          "base_uri": "https://localhost:8080/",
          "height": 1000
        },
        "id": "XpCRf0gywYZW",
        "outputId": "b570c6b9-d501-4498-a63c-2b1abc73d6d4"
      },
      "execution_count": 6,
      "outputs": [
        {
          "output_type": "display_data",
          "data": {
            "text/plain": [
              "<IPython.core.display.Markdown object>"
            ],
            "text/markdown": "> ATENÇÃO! Esta aplicação não substitui a necessidade de avaliações feitas por professores.\n> * ## Análise da Redação\n> \n> **Critério 01 - Domínio da escrita formal da língua portuguesa**\n> \n> **Nota:** 120 pontos\n> \n> **Pontos Positivos:**\n> \n> * A redação apresenta uso correto da pontuação na maior parte do texto.\n> * Demonstra conhecimento razoável das regras de concordância verbal e nominal.\n> \n> **Pontos a Melhorar:**\n> \n> * Há algumas falhas de acentuação, como em `Eua` (EUA) e `inifundável` (inafundável).\n> * Falta de vírgula após `19 de dezembro de 1997` e `Estados Unidos`.\n> * Redundância em `O Filme foi lançado`.\n> * Erro de concordância em `Entre os principais nomes pode-se destacar` (o correto seria `podem ser destacados`).\n> * Uso inadequado de maiúsculas e minúsculas em `eua` e `James Cameron` (no meio da frase).\n> * Regência nominal inadequada em `no que diz a segurança` (o correto seria `no que diz respeito à segurança`).\n> \n> **Critério 02 - Compreender o tema e não fugir do que é proposto**\n> \n> \n> **Nota:** 40 pontos\n> \n> **Pontos Positivos:**\n> \n> * O texto aborda a história do Titanic e menciona o filme de James Cameron.\n> \n> **Pontos a Melhorar:**\n> \n> * A redação se configura mais como um resumo informativo sobre o filme Titanic do que uma análise histórica. \n> * Falta de delimitação clara de um tema específico a ser analisado.\n> * Abordagem superficial da história do Titanic, focando mais em informações básicas sobre o filme.\n> * A menção à discriminação social, disputa de poder e história de amor do casal  não são exploradas, tornando-se apenas informações soltas.\n> * A conclusão sobre a falibilidade dos projetos e a segurança não se conecta diretamente à análise do filme ou da história do Titanic, parecendo uma ideia genérica deslocada.\n> \n> **Critério 03 - Selecionar, relacionar, organizar e interpretar informações, fatos, opiniões e argumentos em defesa de um ponto de vista**\n> \n> **Nota:** 40 pontos\n> \n> **Pontos Positivos:**\n> \n> * O texto apresenta algumas informações relevantes sobre o filme Titanic, como data de lançamento, diretor e atores principais.\n> \n> **Pontos a Melhorar:**\n> \n> * Falta de um ponto de vista claro a ser defendido.\n> * As informações, fatos e opiniões não são aprofundados ou relacionados de forma a construir uma argumentação sólida.\n> * A redação se limita a apresentar informações superficiais, sem aprofundar a análise histórica do filme.\n> \n> **Critério 04 – Conhecimento dos mecanismos linguísticos necessários para a construção da argumentação**\n> \n> **Nota:** 80 pontos\n> \n> **Pontos Positivos:**\n> \n> * O texto apresenta estrutura básica de frases e parágrafos.\n> * Há uso de alguns conectivos, como `sendo`, `entre`, `assim como`, `os quais`, `com o seu`.\n> \n> **Pontos a Melhorar:**\n> \n> * A articulação entre as partes do texto é frágil, com transições abruptas e falta de fluidez na leitura.\n> * Repetição excessiva de `Titanic` e `filme`.\n> * Uso limitado de recursos coesivos, o que torna a leitura pouco fluida e as relações entre as ideias pouco claras.\n> * Falta de frases de transição entre os parágrafos.\n> \n> **Critério 05 - Respeito aos direitos humanos**\n> \n> **O tema desta redação não é avaliável pelo critério Respeito aos direitos humanos.**\n> \n> \n> ## Nota Geral: 380 pontos\n> \n> \n> ## Considerações Gerais:\n> \n> A redação apresenta um conhecimento básico da história do Titanic e do filme de James Cameron, mas falha em apresentar uma análise histórica aprofundada. O texto carece de delimitação de um tema específico, de um ponto de vista claro a ser defendido e de desenvolvimento consistente das ideias. A linguagem utilizada, apesar de demonstrar algum domínio da norma padrão, apresenta falhas de gramática e de coesão, prejudicando a fluidez da leitura e a clareza da argumentação. Para aperfeiçoar a escrita, sugiro investir em leitura crítica de textos dissertativo-argumentativos, bem como praticar a escrita de forma regular, focando na construção de argumentos sólidos e na utilização precisa da linguagem. \n>  \n> \n> Bons estudos e continue praticando! :) \n> * Os resultados são gerados por IA e podem sofrer pequenas alterações se gerados mais de uma vez"
          },
          "metadata": {}
        },
        {
          "output_type": "stream",
          "name": "stdout",
          "text": [
            "\n"
          ]
        }
      ]
    }
  ]
}