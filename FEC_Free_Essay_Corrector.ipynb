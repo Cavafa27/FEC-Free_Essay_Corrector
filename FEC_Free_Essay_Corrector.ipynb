{
  "nbformat": 4,
  "nbformat_minor": 0,
  "metadata": {
    "colab": {
      "provenance": [],
      "authorship_tag": "ABX9TyPIeRBDbcb8hyQbzuU69nsM",
      "include_colab_link": true
    },
    "kernelspec": {
      "name": "python3",
      "display_name": "Python 3"
    },
    "language_info": {
      "name": "python"
    }
  },
  "cells": [
    {
      "cell_type": "markdown",
      "metadata": {
        "id": "view-in-github",
        "colab_type": "text"
      },
      "source": [
        "<a href=\"https://colab.research.google.com/github/Cavafa27/FEC-Free_Essay_Corrector/blob/main/FEC_Free_Essay_Corrector.ipynb\" target=\"_parent\"><img src=\"https://colab.research.google.com/assets/colab-badge.svg\" alt=\"Open In Colab\"/></a>"
      ]
    },
    {
      "cell_type": "markdown",
      "source": [
        "**Instalação de Pacotes**"
      ],
      "metadata": {
        "id": "OcNj_nXnYKp5"
      }
    },
    {
      "cell_type": "code",
      "execution_count": null,
      "metadata": {
        "id": "u6XpJ-Ugq0ig"
      },
      "outputs": [],
      "source": [
        "!pip install -U -q google-generativeai"
      ]
    },
    {
      "cell_type": "markdown",
      "source": [
        "**Configuração de API e importação de Ferramentas**"
      ],
      "metadata": {
        "id": "GJA_LlwVYTWP"
      }
    },
    {
      "cell_type": "code",
      "source": [
        "import google.generativeai as genai\n",
        "\n",
        "from google.colab import userdata\n",
        "\n",
        "GOOGLE_API_KEY= userdata.get('API_FEC')\n",
        "genai.configure(api_key=GOOGLE_API_KEY)"
      ],
      "metadata": {
        "id": "3Huow5AcYZBq"
      },
      "execution_count": null,
      "outputs": []
    },
    {
      "cell_type": "markdown",
      "source": [
        "**Configurando os parâmentros do modelo**"
      ],
      "metadata": {
        "id": "t9QUEDRbhy46"
      }
    },
    {
      "cell_type": "code",
      "source": [
        "generation_config = {\n",
        "  \"temperature\": 1,\n",
        "  \"top_p\": 0.95,\n",
        "  \"top_k\": 0,\n",
        "  \"max_output_tokens\": 8192,\n",
        "}\n",
        "\n",
        "system_instruction = \"Você é um rigoroso professor de língua portuguesa especializado em produção de texto\"\n",
        "\n",
        "safety_settings = [\n",
        "  {\n",
        "    \"category\": \"HARM_CATEGORY_HARASSMENT\",\n",
        "    \"threshold\": \"BLOCK_ONLY_HIGH\"\n",
        "  },\n",
        "  {\n",
        "    \"category\": \"HARM_CATEGORY_HATE_SPEECH\",\n",
        "    \"threshold\": \"BLOCK_ONLY_HIGH\"\n",
        "  },\n",
        "  {\n",
        "    \"category\": \"HARM_CATEGORY_SEXUALLY_EXPLICIT\",\n",
        "    \"threshold\": \"BLOCK_ONLY_HIGH\"\n",
        "  },\n",
        "  {\n",
        "    \"category\": \"HARM_CATEGORY_DANGEROUS_CONTENT\",\n",
        "    \"threshold\": \"BLOCK_ONLY_HIGH\"\n",
        "  },\n",
        "]\n",
        "\n",
        "model = genai.GenerativeModel(model_name=\"gemini-1.5-pro-latest\",\n",
        "                              generation_config=generation_config,\n",
        "                              system_instruction=system_instruction,\n",
        "                              safety_settings=safety_settings)"
      ],
      "metadata": {
        "id": "Yr2AX9qah1oy"
      },
      "execution_count": null,
      "outputs": []
    },
    {
      "cell_type": "markdown",
      "source": [
        "**Entrada de informações de referência**"
      ],
      "metadata": {
        "id": "_Gup8IfOAlOJ"
      }
    },
    {
      "cell_type": "code",
      "source": [
        "chat = model.start_chat(history=[\n",
        "  {\n",
        "    \"role\": \"user\",\n",
        "    \"parts\": [\"Armazene\\nas informações abaixo no contexto para referência futura\\n\\n\\n\\nCritério\\n01 - Domínio da escrita formal da língua portuguesa\\n\\nInstrução\\nsobre o critério: É avaliado se a redação do participante está adequada às\\nregras de ortografia, como acentuação, ortografia, uso de hífen, emprego de\\nletras maiúsculas e minúsculas e separação silábica. Ainda são analisadas a\\nregência verbal e nominal, concordância verbal e nominal, pontuação,\\nparalelismo, emprego de pronomes e crase.\\n\\nPontuação – Descrição\\n\\n200 pontos – Demonstra excelente domínio da modalidade escrita formal da\\nlíngua portuguesa e de escolha de registro. Desvios gramaticais ou de\\nconvenções da escrita serão aceitos somente como excepcionalidade e quando não\\ncaracterizarem reincidência.\\n\\n160 pontos – Demonstra bom domínio da modalidade escrita formal da língua\\nportuguesa e de escolha de registro, com poucos desvios gramaticais e de\\nconvenções da escrita.\\n\\n120 pontos – Demonstra domínio mediano da modalidade escrita formal da\\nlíngua portuguesa e de escolha de registro, com alguns desvios gramaticais e de\\nconvenções da escrita.\\n\\n80 pontos – Demonstra domínio insuficiente da modalidade escrita formal\\nda língua portuguesa, com muitos desvios gramaticais, de escolha de registro e\\nde convenções da escrita.\\n\\n40 pontos – Demonstra domínio precário da modalidade escrita formal da\\nlíngua portuguesa, de forma sistemática, com diversificados e frequentes\\ndesvios gramaticais, de escolha de registro e de convenções da escrita.\\n\\n0 ponto – Demonstra desconhecimento da modalidade escrita formal da\\nlíngua portuguesa.\\n\\n\\n\\nCritério\\n02 - Compreender o tema e não fugir do que é proposto\\n\\nInstrução\\nsobre o critério: Avalia as habilidades integradas de leitura e de escrita do\\ncandidato. O tema constitui o núcleo das ideias sobre as quais a redação deve\\nser organizada e é caracterizado por ser uma delimitação de um assunto mais\\nabrangente.\\n\\nPontuação\\n– Descrição\\n\\n200 pontos\\n– Desenvolve o tema por meio de argumentação consistente, a partir de um\\nrepertório sociocultural produtivo e apresenta excelente domínio do texto\\ndissertativo-argumentativo.\\n\\n160 pontos\\n– Desenvolve o tema por meio de argumentação consistente e apresenta bom\\ndomínio do texto dissertativo-argumentativo, com proposição, argumentação e\\nconclusão.\\n\\n120 pontos\\n- Desenvolve o tema por meio de argumentação previsível e apresenta domínio\\nmediano do texto dissertativo-argumentativo, com proposição, argumentação e\\nconclusão.\\n\\n80 pontos\\n– Desenvolve o tema recorrendo à cópia de trechos dos textos motivadores ou\\napresenta domínio insuficiente do texto dissertativo-argumentativo, não\\natendendo à estrutura com proposição, argumentação e conclusão.\\n\\n40 pontos\\n– Apresenta o assunto, tangenciando o tema, ou demonstra domínio precário do\\ntexto dissertativo-argumentativo, com traços constantes de outros tipos\\ntextuais.\\n\\n0 ponto\\n– Fuga ao tema/não atendimento à estrutura dissertativo-argumentativa. Nestes\\ncasos a redação recebe nota zero e é anulada.\\n\\n\\n\\nCritério\\n03 - Selecionar, relacionar, organizar e interpretar informações, fatos,\\nopiniões e argumentos em defesa de um ponto de vista\\n\\nInstrução\\nsobre o critério: O candidato precisa elaborar um texto que apresente,\\nclaramente, uma ideia a ser defendida e os argumentos que justifiquem a posição\\nassumida em relação à temática da proposta da redação. Trata da coerência e da\\nplausibilidade entre as ideias apresentadas no texto, o que é garantido pelo\\nplanejamento prévio à escrita, ou seja, pela elaboração de um projeto de texto.\\n\\nPontuação       Descrição\\n\\n200 pontos\\n– Apresenta informações, fatos e opiniões relacionados ao tema proposto, de\\nforma consistente e organizada, configurando autoria, em defesa de um ponto de\\nvista.\\n\\n160 pontos\\n– Apresenta informações, fatos e opiniões relacionados ao tema, de forma\\norganizada, com indícios de autoria, em defesa de um ponto de vista.\\n\\n120 pontos\\n– Apresenta informações, fatos e opiniões relacionados ao tema, limitados aos\\nargumentos dos textos motivadores e pouco organizados, em defesa de um ponto de\\nvista.\\n\\n80 pontos\\n– Apresenta informações, fatos e opiniões relacionados ao tema, mas\\ndesorganizados ou contraditórios e limitados aos argumentos dos textos\\nmotivadores, em defesa de um ponto de vista.\\n\\n40 pontos\\n– Apresenta informações, fatos e opiniões pouco relacionados ao tema ou\\nincoerentes e sem defesa de um ponto de vista.\\n\\n0 ponto  - Apresenta informações, fatos e opiniões não\\nrelacionados ao tema e sem defesa de um ponto de vista.\\n\\n\\n\\n\\n\\nCritério\\n04 – Conhecimento dos mecanismos linguísticos necessários para a construção da\\nargumentação\\n\\nInstrução\\nsobre o critério: São avaliados itens relacionados à estruturação lógica e\\nformal entre as partes da redação. A organização textual exige que as frases e\\nos parágrafos estabeleçam entre si uma relação que garanta uma sequência\\ncoerente do texto e a interdependência entre as ideias.\\n\\n\\n\\nPreposições,\\nconjunções, advérbios e locuções adverbiais são responsáveis pela coesão do\\ntexto porque estabelecem uma inter-relação entre orações, frases e parágrafos.\\nCada parágrafo será composto por um ou mais períodos também articulados. Cada\\nideia nova precisa estabelecer relação com as anteriores.\\n\\nPontuação\\n- Descrição\\n\\n200 pontos\\n– Articula bem as partes do texto e apresenta repertório diversificado de\\nrecursos coesivos.\\n\\n160 pontos\\n– Articula as partes do texto, com poucas inadequações, e apresenta repertório\\ndiversificado de recursos coesivos.\\n\\n120 pontos\\n– Articula as partes do texto, de forma mediana, com inadequações, e apresenta\\nrepertório pouco diversificado de recursos coesivos.\\n\\n80 pontos\\n– Articula as partes do texto, de forma insuficiente, com muitas inadequações e\\napresenta repertório limitado de recursos coesivos.\\n\\n40 pontos\\n– Articula as partes do texto de forma precária.\\n\\n0 ponto\\n– Não articula as informações.\\n\\n\\n\\nCritério\\n05 - Respeito aos direitos humanos\\n\\nInstrução\\nsobre o critério: Apresentar uma proposta de intervenção para o problema\\nabordado que respeite os direitos humanos. Propor uma intervenção para o\\nproblema apresentado pelo tema significa sugerir uma iniciativa que busque,\\nmesmo que minimamente, enfrentá-lo. A elaboração de uma proposta de intervenção\\nna prova de redação do Enem representa uma ocasião para que o candidato\\ndemonstre o preparo para o exercício da cidadania, para atuar na realidade em\\nconsonância com os direitos humanos.\\n\\nPontuação - Descrição\\n\\n200 pontos – Elabora muito bem proposta de\\nintervenção, detalhada, relacionada ao tema e articulada à discussão\\ndesenvolvida no texto.\\n\\n160 pontos – Elabora bem proposta de\\nintervenção relacionada ao tema e articulada à discussão desenvolvida no texto.\\n\\n120 pontos – Elabora, de forma mediana,\\nproposta de intervenção relacionada ao tema e articulada à discussão\\ndesenvolvida no texto.\\n\\n80 pontos – Elabora, de forma insuficiente,\\nproposta de intervenção relacionada ao tema, ou não articulada com a discussão\\ndesenvolvida no texto.\\n\\n40 pontos – Apresenta proposta de intervenção\\nvaga, precária ou relacionada apenas ao assunto.\\n\\n0 ponto – Não apresenta proposta de intervenção ou apresenta\\nproposta não relacionada ao tema ou ao assunto.\"]\n",
        "  },\n",
        "  {\n",
        "    \"role\": \"user\",\n",
        "    \"parts\": [\"Siga os seguintes passos:\\n\\n\\n\\n2 - Faça uma análise criteriosa e cuidadosa do texto que será inserido a\\nseguir de acordo com os critérios armazenados no contexto\\n\\n3 - Determine uma nota de 0 a 200 para cada critério de avaliação, de\\nacordo com as informações armazenadas no contexto\\n\\n4 - Dê um feedback separado pelos critérios. O feedback tem que conter as\\nseguintes informações\\n\\nNota atribuída para cada critério\\n\\nPartes boas do texto de acordo com os critérios\\n\\nRelatório detalhado das partes que diminuíram a pontuação de acordo com\\ncada critério\\n\\n5 - Caso o tema da redação não seja avaliável pelo critério 5, substituir\\no feedback deste critério pela mensagem: O tema desta redação não é avaliável\\npelo critério Respeito aos direitos humanos\\n\\n6 - Ao final do relatório deve vir a nota geral do texto (soma da\\npontuação de cada critério) e as considerações gerais.\\n\\n7 – Pule duas linhas entre cada critério no relatório\\n\\n8 - O relatório deve vir completo\"]\n",
        "  },\n",
        "])"
      ],
      "metadata": {
        "id": "bG_99clgAklV"
      },
      "execution_count": null,
      "outputs": []
    },
    {
      "cell_type": "markdown",
      "source": [
        "**Input do texto e avaliação**"
      ],
      "metadata": {
        "id": "oIZe5462BC16"
      }
    },
    {
      "cell_type": "code",
      "source": [
        "prompt = input()\n",
        "response = chat.send_message(prompt)"
      ],
      "metadata": {
        "id": "cvnSQHQtpKdI"
      },
      "execution_count": null,
      "outputs": []
    },
    {
      "cell_type": "markdown",
      "source": [
        "Configura a resposta"
      ],
      "metadata": {
        "id": "98mx8CsQv5eq"
      }
    },
    {
      "cell_type": "code",
      "source": [
        "# Melhorando a visualização\n",
        "# Código disponivel em https://ai.google.dev/tutorials/python_quickstart#import_packages\n",
        "import textwrap\n",
        "from IPython.display import display\n",
        "from IPython.display import Markdown\n",
        "\n",
        "def to_markdown(text):\n",
        "  text = text.replace('\"', '`')\n",
        "  return Markdown(textwrap.indent(text, '> ', predicate=lambda _: True))\n",
        "\n",
        "  # Imprime a última resposta do modelo\n",
        "last_message = next((message for message in reversed(chat.history) if message.role == 'model'), None)\n",
        "if last_message:\n",
        "  display(to_markdown(f'ATENÇÃO! Esta aplicação não substitui a necessidade de avaliações feitas por professores.\\n* {last_message.parts[0].text} \\n\\nBons estudos e continue praticando! :) \\n* Os resultados são gerados por IA e podem sofrer pequenas alterações se gerados mais de uma vez'))\n",
        "\n",
        "  print('')"
      ],
      "metadata": {
        "id": "XpCRf0gywYZW"
      },
      "execution_count": null,
      "outputs": []
    }
  ]
}